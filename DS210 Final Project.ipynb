{
 "cells": [
  {
   "cell_type": "code",
   "execution_count": 300,
   "id": "681ab9bf",
   "metadata": {},
   "outputs": [
    {
     "data": {
      "text/plain": [
       "0        DUDLEY STATION\n",
       "113      DUDLEY STATION\n",
       "12381    DUDLEY STATION\n",
       "12401    DUDLEY STATION\n",
       "24876    DUDLEY STATION\n",
       "25277    DUDLEY STATION\n",
       "37699    DUDLEY STATION\n",
       "38102    DUDLEY STATION\n",
       "49386    NUBIAN STATION\n",
       "49820    NUBIAN STATION\n",
       "61421    NUBIAN STATION\n",
       "61660    NUBIAN STATION\n",
       "Name: stop_name, dtype: object"
      ]
     },
     "execution_count": 300,
     "metadata": {},
     "output_type": "execute_result"
    }
   ],
   "source": [
    "import pandas as pd\n",
    "\n",
    "bus = pd.read_csv(\"../MBTA_bus_ridership.csv\")\n",
    "bus = bus.loc[bus.time_period_name == \"AM_PEAK\"]\n",
    "bus.loc[bus.stop_id == 64, \"stop_name\"]"
   ]
  },
  {
   "cell_type": "code",
   "execution_count": 305,
   "id": "3dd2ce32",
   "metadata": {},
   "outputs": [],
   "source": [
    "bus0 = bus.loc[bus.direction_id == 0]\n",
    "stops0 = bus0.groupby(\"stop_id\")[\"route_name\"].unique().apply(list).reset_index(name='routes')\n",
    "stops_connected0 = stops0.loc[stops0.routes.str.len() >= 2]"
   ]
  },
  {
   "cell_type": "code",
   "execution_count": 110,
   "id": "d24f4025",
   "metadata": {},
   "outputs": [],
   "source": [
    "bus1 = bus.loc[bus.direction_id == 1]\n",
    "stops1 = bus1.groupby(\"stop_name\")[\"route_name\"].unique().apply(list).reset_index(name='routes')\n",
    "stops_connected1 = stops1.loc[stops1.routes.str.len() >= 2]"
   ]
  },
  {
   "cell_type": "code",
   "execution_count": 259,
   "id": "c9340a12",
   "metadata": {},
   "outputs": [],
   "source": [
    "routes = bus0.groupby(\"route_name\")[\"stop_sequence\"].unique().apply(list).reset_index(name=\"sequences\")\n",
    "s_max = bus0.groupby(\"route_name\").agg(s_max = (\"stop_sequence\", max)).reset_index().values.tolist()"
   ]
  },
  {
   "cell_type": "code",
   "execution_count": 324,
   "id": "1df8ad29",
   "metadata": {},
   "outputs": [
    {
     "data": {
      "text/html": [
       "<div>\n",
       "<style scoped>\n",
       "    .dataframe tbody tr th:only-of-type {\n",
       "        vertical-align: middle;\n",
       "    }\n",
       "\n",
       "    .dataframe tbody tr th {\n",
       "        vertical-align: top;\n",
       "    }\n",
       "\n",
       "    .dataframe thead th {\n",
       "        text-align: right;\n",
       "    }\n",
       "</style>\n",
       "<table border=\"1\" class=\"dataframe\">\n",
       "  <thead>\n",
       "    <tr style=\"text-align: right;\">\n",
       "      <th></th>\n",
       "      <th>stop_id</th>\n",
       "      <th>sequence</th>\n",
       "    </tr>\n",
       "  </thead>\n",
       "  <tbody>\n",
       "    <tr>\n",
       "      <th>0</th>\n",
       "      <td>1</td>\n",
       "      <td>[2]</td>\n",
       "    </tr>\n",
       "    <tr>\n",
       "      <th>1</th>\n",
       "      <td>2</td>\n",
       "      <td>[3]</td>\n",
       "    </tr>\n",
       "    <tr>\n",
       "      <th>2</th>\n",
       "      <td>6</td>\n",
       "      <td>[4]</td>\n",
       "    </tr>\n",
       "    <tr>\n",
       "      <th>3</th>\n",
       "      <td>57</td>\n",
       "      <td>[6]</td>\n",
       "    </tr>\n",
       "    <tr>\n",
       "      <th>4</th>\n",
       "      <td>58</td>\n",
       "      <td>[7]</td>\n",
       "    </tr>\n",
       "    <tr>\n",
       "      <th>...</th>\n",
       "      <td>...</td>\n",
       "      <td>...</td>\n",
       "    </tr>\n",
       "    <tr>\n",
       "      <th>363</th>\n",
       "      <td>71391</td>\n",
       "      <td>[8]</td>\n",
       "    </tr>\n",
       "    <tr>\n",
       "      <th>364</th>\n",
       "      <td>76495</td>\n",
       "      <td>[20, 37]</td>\n",
       "    </tr>\n",
       "    <tr>\n",
       "      <th>365</th>\n",
       "      <td>91391</td>\n",
       "      <td>[10]</td>\n",
       "    </tr>\n",
       "    <tr>\n",
       "      <th>366</th>\n",
       "      <td>92391</td>\n",
       "      <td>[11]</td>\n",
       "    </tr>\n",
       "    <tr>\n",
       "      <th>367</th>\n",
       "      <td>99991</td>\n",
       "      <td>[24]</td>\n",
       "    </tr>\n",
       "  </tbody>\n",
       "</table>\n",
       "<p>368 rows × 2 columns</p>\n",
       "</div>"
      ],
      "text/plain": [
       "     stop_id  sequence\n",
       "0          1       [2]\n",
       "1          2       [3]\n",
       "2          6       [4]\n",
       "3         57       [6]\n",
       "4         58       [7]\n",
       "..       ...       ...\n",
       "363    71391       [8]\n",
       "364    76495  [20, 37]\n",
       "365    91391      [10]\n",
       "366    92391      [11]\n",
       "367    99991      [24]\n",
       "\n",
       "[368 rows x 2 columns]"
      ]
     },
     "execution_count": 324,
     "metadata": {},
     "output_type": "execute_result"
    }
   ],
   "source": [
    "sequence = bus0.groupby(\"stop_id\")[\"stop_sequence\"].unique().apply(list).reset_index(name = \"sequence\")\n",
    "sequence"
   ]
  },
  {
   "cell_type": "code",
   "execution_count": 338,
   "id": "3a6525f9",
   "metadata": {},
   "outputs": [],
   "source": [
    "list0 = []\n",
    "for route in bus0.route_name.unique():\n",
    "    i = bus0.loc[(bus0.route_name == route) & (bus0.stop_sequence == 1), \"stop_id\"].unique()\n",
    "    for j in i:\n",
    "        list0.append(j)\n",
    "for c in s_max:\n",
    "    i = bus0.loc[(bus0.route_name == c[0]) & (bus0.stop_sequence == c[1]), \"stop_id\"].unique()\n",
    "    for j in i:\n",
    "        list0.append(j)\n",
    "for s in stops_connected0.stop_id:\n",
    "    list0.append(s)\n",
    "\n",
    "ids0 = pd.DataFrame()\n",
    "ids0[\"stop_id\"] = list0\n",
    "sequence_test = bus0.groupby(\"stop_id\")[\"stop_sequence\"].unique().apply(list).reset_index(name='sequence')\n",
    "s_mean = []\n",
    "for i in sequence_test.sequence:\n",
    "    s_mean.append((sum(i)/len(i)).round(3))\n",
    "sequence_test[\"s_mean\"] = s_mean\n",
    "sequence0 = sequence_test[[\"stop_id\",\"s_mean\"]]\n",
    "final0 = ids0.merge(bus0, how = \"left\", on = \"stop_id\")\n",
    "final0 = final0.merge(stops0, how = \"left\", on = \"stop_id\")\n",
    "test = final0.groupby(\"stop_id\").agg({\"average_load\":\"mean\"})\n",
    "test = test.merge(sequence0, how = \"left\", on = \"stop_id\")\n",
    "test = test.merge(stops0, how = \"left\", on = \"stop_id\").round(3)\n",
    "test.to_csv(\"/Users/ericgulottyjr/Downloads/MBTA_Bus_AM_PEAK.csv\")"
   ]
  },
  {
   "cell_type": "code",
   "execution_count": 380,
   "id": "cece2e0c",
   "metadata": {
    "scrolled": true
   },
   "outputs": [],
   "source": [
    "test = test.sort_values(by = \"s_mean\")\n",
    "test['connections'] = [list() for x in range(len(test.index))]\n",
    "test.to_csv(\"/Users/ericgulottyjr/Downloads/MBTA_Bus_AM_PEAK.csv\")"
   ]
  },
  {
   "cell_type": "code",
   "execution_count": 393,
   "id": "09522cf2",
   "metadata": {},
   "outputs": [
    {
     "name": "stdout",
     "output_type": "stream",
     "text": [
      "['DUDLEY STATION' 'NUBIAN STATION']\n",
      "['CAMBRIDGE ST @ SPARHAWK ST']\n"
     ]
    }
   ],
   "source": [
    "print(bus0.loc[bus0.stop_id == 64000, \"stop_name\"].unique())\n",
    "print(bus0.loc[bus0.stop_id == 970, \"stop_name\"].unique())"
   ]
  }
 ],
 "metadata": {
  "kernelspec": {
   "display_name": "base",
   "language": "python",
   "name": "python3"
  },
  "language_info": {
   "codemirror_mode": {
    "name": "ipython",
    "version": 3
   },
   "file_extension": ".py",
   "mimetype": "text/x-python",
   "name": "python",
   "nbconvert_exporter": "python",
   "pygments_lexer": "ipython3",
   "version": "3.9.12 (main, Apr  5 2022, 01:53:17) \n[Clang 12.0.0 ]"
  },
  "vscode": {
   "interpreter": {
    "hash": "aa2da4a8d6663f4f7aa8b1a5192ee46f3351a29604bf90c7c73615530a67ab07"
   }
  }
 },
 "nbformat": 4,
 "nbformat_minor": 5
}
